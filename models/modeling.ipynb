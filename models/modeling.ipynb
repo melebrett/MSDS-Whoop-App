{
 "cells": [
  {
   "cell_type": "code",
   "execution_count": 40,
   "metadata": {},
   "outputs": [],
   "source": [
    "import pandas as pd\n",
    "import numpy as np\n",
    "import math\n",
    "\n",
    "from sklearn.model_selection import train_test_split\n",
    "import sklearn.metrics as metrics\n",
    "from sklearn import tree\n",
    "from sklearn.tree import _tree\n",
    "from operator import itemgetter\n",
    "from sklearn.ensemble import RandomForestRegressor \n",
    "from sklearn.ensemble import GradientBoostingRegressor \n",
    "from sklearn.linear_model import LinearRegression\n",
    "from sklearn.linear_model import Ridge\n",
    "from sklearn.naive_bayes import GaussianNB\n",
    "import pickle\n",
    "\n",
    "from google.cloud import storage\n",
    "from google.cloud import bigquery\n",
    "from google.oauth2 import service_account\n",
    "credentials = service_account.Credentials.from_service_account_file(\"../../msds434-whoop-app-44384939c1f4.json\")"
   ]
  },
  {
   "cell_type": "code",
   "execution_count": 2,
   "metadata": {},
   "outputs": [],
   "source": [
    "project_id = 'msds434-whoop-app'\n",
    "client = bigquery.Client(credentials=credentials, project=project_id)\n",
    "query = client.query(\"select * from `msds434-whoop-app.whoopdataset.whoopmerge`\")\n",
    "df = query.to_dataframe()"
   ]
  },
  {
   "cell_type": "code",
   "execution_count": 3,
   "metadata": {},
   "outputs": [],
   "source": [
    "# flags for key missing data\n",
    "df['na_acr'] = df['acute_chronic_strain'].isna() + 0\n",
    "df['na_workout'] = df['y_workout_strain'].isna() + 0\n",
    "\n",
    "# imputation\n",
    "workout_cols = ['acute_chronic_strain', 'workout_strain', 'workout_average_heart_rate','workout_max_heart_rate','workout_kilojoule','zone_one','zone_two','zone_thee','zone_four','zone_five',\n",
    "\t\t\t\t\t 'y_workout_strain', 'y_workout_average_heart_rate','y_workout_max_heart_rate','y_workout_kilojoule','y_zone_one','y_zone_two','y_zone_thee','y_zone_four','y_zone_five']\n",
    "\n",
    "for i in df.columns:\n",
    "\tif df[i].dtype == 'int' or df[i].dtype == 'float':\n",
    "\t\tif i in workout_cols:\n",
    "\t\t\tdf[i] = df[i].fillna(df[i].min())\n",
    "\t\telif i.startswith(\"y_\"):\n",
    "\t\t\tdf[i] = df[i].fillna(df.groupby('day_of_week')[i].transform('median'))\n",
    "\t\telif i.startswith(\"w_\"):\n",
    "\t\t\tdf[i] = df[i].fillna(df.groupby('day_of_week')[i].transform('median'))\n",
    "\t\telse:\n",
    "\t\t\tpass"
   ]
  },
  {
   "cell_type": "code",
   "execution_count": 4,
   "metadata": {},
   "outputs": [],
   "source": [
    "same_day_sleep_cols = ['sleep_start_time','light_sleep_time', 'slow_wave_sleep_time','rem_sleep_time','sleep_cycle_count','disturbance_count','respiratory_rate']\n",
    "yesterday_sleep_cols = ['y_total_sleep_time', 'y_light_sleep_time', 'y_slow_wave_sleep_time','y_rem_sleep_time','y_sleep_cycle_count','y_disturbance_count','y_respiratory_rate', 'y_sleep_performance_perc', 'y_sleep_consistency_perc','y_sleep_efficiency_perc']\n",
    "yesterday_strain_cols = ['y_kilojoule','y_strain', 'y_avg_heart_rate','y_max_heart_rate']\n",
    "yesterday_workout_cols = ['y_workout_start_time','y_workout_max_heart_rate', 'y_workout_max_heart_rate','y_workout_kilojoule','y_zone_one','y_zone_two','y_zone_thee','y_zone_four','y_zone_five']\n",
    "weekly_avgs = ['acute_chronic_strain', 'w_strain','w_sleep_start_time_sd','w_slow_wave_sleep_time','w_light_sleep_time','w_rem_sleep_time','w_recovery_score','w_hrv_milli','w_resting_heart_rate']\n",
    "df['recovery_score_bin'] = pd.cut(df['recovery_score'], bins=[-float('inf'), 33, 67, float('inf')], labels=['red', 'yellow', 'green'])"
   ]
  },
  {
   "cell_type": "code",
   "execution_count": 5,
   "metadata": {},
   "outputs": [],
   "source": [
    "# HELPER FUNCTIONS\n",
    "def getTreeVars( TREE, varNames ) :\n",
    "   tree_ = TREE.tree_\n",
    "   varName = [ varNames[i] if i != _tree.TREE_UNDEFINED else \"undefined!\" for i in tree_.feature ]\n",
    "\n",
    "   nameSet = set()\n",
    "   for i in tree_.feature :\n",
    "       if i != _tree.TREE_UNDEFINED :\n",
    "           nameSet.add( i )\n",
    "   nameList = list( nameSet )\n",
    "   parameter_list = list()\n",
    "   for i in nameList :\n",
    "       parameter_list.append( varNames[i] )\n",
    "   return parameter_list\n",
    "\n",
    "def getEnsembleTreeVars( ENSTREE, varNames ) :\n",
    "   importance = ENSTREE.feature_importances_\n",
    "   index = np.argsort(importance)\n",
    "   theList = []\n",
    "   for i in index :\n",
    "       imp_val = importance[i]\n",
    "       if imp_val > 0.01 :\n",
    "           v = int( imp_val / np.max( ENSTREE.feature_importances_ ) * 100 )\n",
    "           theList.append( ( varNames[i], v ) )\n",
    "   theList = sorted(theList,key=itemgetter(1),reverse=True)\n",
    "   return theList"
   ]
  },
  {
   "attachments": {},
   "cell_type": "markdown",
   "metadata": {},
   "source": [
    "## Model 1: predict next day's recovery"
   ]
  },
  {
   "cell_type": "code",
   "execution_count": 84,
   "metadata": {},
   "outputs": [],
   "source": [
    "other_cols = ['recovery_score', 'week_of_year','day_of_week','na_acr','na_workout', 'sleep_start_time']\n",
    "feats = list(set(other_cols + same_day_sleep_cols + yesterday_sleep_cols + yesterday_strain_cols + yesterday_workout_cols + weekly_avgs))\n",
    "df_recovery_model = df[feats]\n",
    "\n",
    "X = df_recovery_model.drop('recovery_score',axis = 1)\n",
    "Y = df_recovery_model['recovery_score']\n",
    "\n",
    "X_train, X_test, Y_train, Y_test = train_test_split(X,Y, train_size=0.8, test_size=0.2, random_state=2)"
   ]
  },
  {
   "cell_type": "code",
   "execution_count": 38,
   "metadata": {},
   "outputs": [
    {
     "name": "stdout",
     "output_type": "stream",
     "text": [
      "7.277269795500423\n",
      "7.1816578703518195\n"
     ]
    },
    {
     "data": {
      "text/plain": [
       "['w_hrv_milli',\n",
       " 'y_disturbance_count',\n",
       " 'w_resting_heart_rate',\n",
       " 'y_total_sleep_time',\n",
       " 'sleep_start_time',\n",
       " 'w_recovery_score',\n",
       " 'acute_chronic_strain']"
      ]
     },
     "execution_count": 38,
     "metadata": {},
     "output_type": "execute_result"
    }
   ],
   "source": [
    "m01_recovery_tree = tree.DecisionTreeRegressor(max_depth=4)\n",
    "m01_recovery_tree = m01_recovery_tree.fit(X_train, Y_train)\n",
    "\n",
    "Y_pred_train = m01_recovery_tree.predict(X_train)\n",
    "Y_pred_test = m01_recovery_tree.predict(X_test)\n",
    "\n",
    "rmse_train = math.sqrt(metrics.mean_squared_error(Y_train, Y_pred_train))\n",
    "rmse_test = math.sqrt(metrics.mean_squared_error(Y_test, Y_pred_test))\n",
    "\n",
    "print(rmse_train)\n",
    "print(rmse_test)\n",
    "getTreeVars(m01_recovery_tree, X_train.columns.values)"
   ]
  },
  {
   "cell_type": "code",
   "execution_count": 66,
   "metadata": {},
   "outputs": [
    {
     "name": "stdout",
     "output_type": "stream",
     "text": [
      "4.440838855377452\n",
      "7.584322528245038\n"
     ]
    },
    {
     "data": {
      "text/plain": [
       "[('w_recovery_score', 100),\n",
       " ('w_hrv_milli', 3),\n",
       " ('w_light_sleep_time', 2),\n",
       " ('acute_chronic_strain', 1),\n",
       " ('respiratory_rate', 1),\n",
       " ('w_resting_heart_rate', 1)]"
      ]
     },
     "execution_count": 66,
     "metadata": {},
     "output_type": "execute_result"
    }
   ],
   "source": [
    "m01_recovery_gb = GradientBoostingRegressor(random_state=5,n_iter_no_change = 10, n_estimators=100, learning_rate = 0.1,max_depth = 10, min_samples_leaf=5)\n",
    "m01_recovery_gb = m01_recovery_gb.fit(X_train, Y_train)\n",
    "\n",
    "Y_pred_train = m01_recovery_gb.predict(X_train)\n",
    "Y_pred_test = m01_recovery_gb.predict(X_test)\n",
    "\n",
    "rmse_train = math.sqrt(metrics.mean_squared_error(Y_train, Y_pred_train))\n",
    "rmse_test = math.sqrt(metrics.mean_squared_error(Y_test, Y_pred_test))\n",
    "\n",
    "print(rmse_train)\n",
    "print(rmse_test)\n",
    "getEnsembleTreeVars(m01_recovery_gb, X_train.columns.values)"
   ]
  },
  {
   "cell_type": "code",
   "execution_count": 73,
   "metadata": {},
   "outputs": [
    {
     "name": "stdout",
     "output_type": "stream",
     "text": [
      "26.875272793572854\n",
      "95.06128382849975\n",
      "65.52469636091467\n"
     ]
    }
   ],
   "source": [
    "print(min(Y_pred_test))\n",
    "print(max(Y_pred_test))\n",
    "print(Y_pred_test.mean())"
   ]
  },
  {
   "cell_type": "code",
   "execution_count": 85,
   "metadata": {},
   "outputs": [
    {
     "name": "stdout",
     "output_type": "stream",
     "text": [
      "7.802213289319231\n",
      "6.860056180219036\n"
     ]
    },
    {
     "name": "stderr",
     "output_type": "stream",
     "text": [
      "c:\\Users\\BrettMele\\anaconda3\\lib\\site-packages\\sklearn\\linear_model\\_ridge.py:157: LinAlgWarning: Ill-conditioned matrix (rcond=8.31014e-17): result may not be accurate.\n",
      "  return linalg.solve(A, Xy, sym_pos=True, overwrite_a=True).T\n"
     ]
    }
   ],
   "source": [
    "# from sklearn.preprocessing import StandardScaler\n",
    "# from sklearn.pipeline import make_pipeline\n",
    "\n",
    "m01_recovery_lm = Ridge()\n",
    "# m01_recovery_lm = make_pipeline(StandardScaler(with_mean=False), Ridge())\n",
    "m01_recovery_lm = m01_recovery_lm.fit(X_train, Y_train)\n",
    "\n",
    "Y_pred_train = m01_recovery_lm.predict(X_train)\n",
    "Y_pred_test = m01_recovery_lm.predict(X_test)\n",
    "\n",
    "rmse_train = math.sqrt(metrics.mean_squared_error(Y_train, Y_pred_train))\n",
    "rmse_test = math.sqrt(metrics.mean_squared_error(Y_test, Y_pred_test))\n",
    "\n",
    "print(rmse_train)\n",
    "print(rmse_test)"
   ]
  },
  {
   "cell_type": "code",
   "execution_count": 89,
   "metadata": {},
   "outputs": [
    {
     "data": {
      "text/plain": [
       "Index(['y_sleep_performance_perc', 'na_workout', 'w_slow_wave_sleep_time',\n",
       "       'y_max_heart_rate', 'y_slow_wave_sleep_time', 'y_zone_thee',\n",
       "       'y_zone_two', 'y_kilojoule', 'y_respiratory_rate',\n",
       "       'slow_wave_sleep_time', 'y_zone_four', 'w_rem_sleep_time',\n",
       "       'y_light_sleep_time', 'disturbance_count', 'y_zone_one',\n",
       "       'y_total_sleep_time', 'na_acr', 'day_of_week', 'sleep_start_time',\n",
       "       'y_sleep_consistency_perc', 'w_recovery_score',\n",
       "       'y_workout_max_heart_rate', 'y_sleep_efficiency_perc', 'y_zone_five',\n",
       "       'w_sleep_start_time_sd', 'y_workout_kilojoule', 'y_rem_sleep_time',\n",
       "       'light_sleep_time', 'acute_chronic_strain', 'respiratory_rate',\n",
       "       'y_workout_start_time', 'w_light_sleep_time', 'week_of_year',\n",
       "       'w_hrv_milli', 'rem_sleep_time', 'y_disturbance_count',\n",
       "       'y_avg_heart_rate', 'w_strain', 'y_strain', 'sleep_cycle_count',\n",
       "       'y_sleep_cycle_count', 'w_resting_heart_rate'],\n",
       "      dtype='object')"
      ]
     },
     "execution_count": 89,
     "metadata": {},
     "output_type": "execute_result"
    }
   ],
   "source": [
    "X_train.columns"
   ]
  },
  {
   "attachments": {},
   "cell_type": "markdown",
   "metadata": {},
   "source": [
    "## Model 2: workout performance"
   ]
  },
  {
   "cell_type": "code",
   "execution_count": 27,
   "metadata": {},
   "outputs": [],
   "source": [
    "other_cols = ['workout_strain','recovery_score','hrv_milli', 'day_of_week', 'na_workout']\n",
    "feats =  list(set(other_cols + same_day_sleep_cols + yesterday_sleep_cols + yesterday_strain_cols + yesterday_workout_cols + weekly_avgs))\n",
    "df_workout_model = df[feats]\n",
    "df_workout_model.loc[df_workout_model['na_workout'] == 0]\n",
    "\n",
    "X = df_workout_model.drop(columns=['workout_strain','na_workout'],axis = 1)\n",
    "Y = df_workout_model['workout_strain']\n",
    "\n",
    "X_train, X_test, Y_train, Y_test = train_test_split(X,Y, train_size=0.8, test_size=0.2, random_state=2)"
   ]
  },
  {
   "cell_type": "code",
   "execution_count": 29,
   "metadata": {},
   "outputs": [
    {
     "name": "stdout",
     "output_type": "stream",
     "text": [
      "3.3810826544467294\n",
      "3.516980816049317\n"
     ]
    },
    {
     "data": {
      "text/plain": [
       "['hrv_milli', 'y_strain', 'y_workout_kilojoule']"
      ]
     },
     "execution_count": 29,
     "metadata": {},
     "output_type": "execute_result"
    }
   ],
   "source": [
    "m01_workout_tree = tree.DecisionTreeRegressor(max_depth=2)\n",
    "m01_workout_tree = m01_workout_tree.fit(X_train, Y_train)\n",
    "\n",
    "Y_pred_train = m01_workout_tree.predict(X_train)\n",
    "Y_pred_test = m01_workout_tree.predict(X_test)\n",
    "\n",
    "rmse_train = math.sqrt(metrics.mean_squared_error(Y_train, Y_pred_train))\n",
    "rmse_test = math.sqrt(metrics.mean_squared_error(Y_test, Y_pred_test))\n",
    "\n",
    "print(rmse_train)\n",
    "print(rmse_test)\n",
    "getTreeVars(m01_workout_tree, X_train.columns.values)"
   ]
  },
  {
   "cell_type": "code",
   "execution_count": 30,
   "metadata": {},
   "outputs": [
    {
     "name": "stdout",
     "output_type": "stream",
     "text": [
      "3.2057813915115676\n",
      "3.4071491744316496\n"
     ]
    },
    {
     "data": {
      "text/plain": [
       "[('y_strain', 100),\n",
       " ('y_workout_kilojoule', 72),\n",
       " ('y_zone_four', 43),\n",
       " ('y_workout_start_time', 20),\n",
       " ('y_workout_max_heart_rate', 20),\n",
       " ('hrv_milli', 13),\n",
       " ('respiratory_rate', 8),\n",
       " ('y_zone_one', 5),\n",
       " ('acute_chronic_strain', 4),\n",
       " ('y_max_heart_rate', 4)]"
      ]
     },
     "execution_count": 30,
     "metadata": {},
     "output_type": "execute_result"
    }
   ],
   "source": [
    "m01_workout_gb = GradientBoostingRegressor(random_state=5,n_iter_no_change = 3, n_estimators=500, learning_rate = 0.1,max_depth = 2, min_samples_leaf=3)\n",
    "m01_workout_gb = m01_workout_gb.fit(X_train, Y_train)\n",
    "\n",
    "Y_pred_train = m01_workout_gb.predict(X_train)\n",
    "Y_pred_test = m01_workout_gb.predict(X_test)\n",
    "\n",
    "rmse_train = math.sqrt(metrics.mean_squared_error(Y_train, Y_pred_train))\n",
    "rmse_test = math.sqrt(metrics.mean_squared_error(Y_test, Y_pred_test))\n",
    "\n",
    "print(rmse_train)\n",
    "print(rmse_test)\n",
    "getEnsembleTreeVars(m01_workout_gb, X_train.columns.values)"
   ]
  },
  {
   "cell_type": "code",
   "execution_count": 31,
   "metadata": {},
   "outputs": [
    {
     "name": "stdout",
     "output_type": "stream",
     "text": [
      "3.415197220279388\n",
      "3.6966508027693816\n"
     ]
    }
   ],
   "source": [
    "m01_workout_lm = Ridge()\n",
    "m01_workout_lm = m01_workout_lm.fit(X_train, Y_train)\n",
    "\n",
    "Y_pred_train = m01_workout_lm.predict(X_train)\n",
    "Y_pred_test = m01_workout_lm.predict(X_test)\n",
    "\n",
    "rmse_train = math.sqrt(metrics.mean_squared_error(Y_train, Y_pred_train))\n",
    "rmse_test = math.sqrt(metrics.mean_squared_error(Y_test, Y_pred_test))\n",
    "\n",
    "print(rmse_train)\n",
    "print(rmse_test)"
   ]
  },
  {
   "cell_type": "code",
   "execution_count": 90,
   "metadata": {},
   "outputs": [
    {
     "data": {
      "text/plain": [
       "array(['y_sleep_performance_perc', 'w_slow_wave_sleep_time',\n",
       "       'y_max_heart_rate', 'y_slow_wave_sleep_time', 'y_zone_thee',\n",
       "       'y_zone_two', 'y_kilojoule', 'y_respiratory_rate',\n",
       "       'slow_wave_sleep_time', 'y_zone_four', 'w_rem_sleep_time',\n",
       "       'y_light_sleep_time', 'disturbance_count', 'y_zone_one',\n",
       "       'y_total_sleep_time', 'day_of_week', 'sleep_start_time',\n",
       "       'y_sleep_consistency_perc', 'w_recovery_score',\n",
       "       'y_workout_max_heart_rate', 'y_sleep_efficiency_perc',\n",
       "       'y_zone_five', 'w_sleep_start_time_sd', 'y_workout_kilojoule',\n",
       "       'y_rem_sleep_time', 'light_sleep_time', 'hrv_milli',\n",
       "       'acute_chronic_strain', 'respiratory_rate', 'recovery_score',\n",
       "       'y_workout_start_time', 'w_light_sleep_time', 'w_hrv_milli',\n",
       "       'rem_sleep_time', 'y_disturbance_count', 'y_avg_heart_rate',\n",
       "       'w_strain', 'y_strain', 'sleep_cycle_count', 'y_sleep_cycle_count',\n",
       "       'w_resting_heart_rate'], dtype=object)"
      ]
     },
     "execution_count": 90,
     "metadata": {},
     "output_type": "execute_result"
    }
   ],
   "source": [
    "m01_workout_lm.feature_names_in_"
   ]
  },
  {
   "attachments": {},
   "cell_type": "markdown",
   "metadata": {},
   "source": [
    "## Model 3: HRV"
   ]
  },
  {
   "cell_type": "code",
   "execution_count": 19,
   "metadata": {},
   "outputs": [],
   "source": [
    "other_cols = ['hrv_milli', 'week_of_year','day_of_week','na_acr','na_workout', 'sleep_start_time']\n",
    "feats = list(set(other_cols + yesterday_sleep_cols + yesterday_strain_cols + yesterday_workout_cols + weekly_avgs))\n",
    "df_hrv_model = df[feats]\n",
    "\n",
    "X = df_hrv_model.drop('hrv_milli',axis = 1)\n",
    "Y = df_hrv_model['hrv_milli']\n",
    "\n",
    "X_train, X_test, Y_train, Y_test = train_test_split(X,Y, train_size=0.8, test_size=0.2, random_state=2)"
   ]
  },
  {
   "cell_type": "code",
   "execution_count": 20,
   "metadata": {},
   "outputs": [
    {
     "name": "stdout",
     "output_type": "stream",
     "text": [
      "19.00053228893981\n",
      "18.571146346991487\n"
     ]
    },
    {
     "data": {
      "text/plain": [
       "['w_recovery_score']"
      ]
     },
     "execution_count": 20,
     "metadata": {},
     "output_type": "execute_result"
    }
   ],
   "source": [
    "m01_hrv_tree = tree.DecisionTreeRegressor(max_depth=2)\n",
    "m01_hrv_tree = m01_hrv_tree.fit(X_train, Y_train)\n",
    "\n",
    "Y_pred_train = m01_hrv_tree.predict(X_train)\n",
    "Y_pred_test = m01_hrv_tree.predict(X_test)\n",
    "\n",
    "rmse_train = math.sqrt(metrics.mean_squared_error(Y_train, Y_pred_train))\n",
    "rmse_test = math.sqrt(metrics.mean_squared_error(Y_test, Y_pred_test))\n",
    "\n",
    "print(rmse_train)\n",
    "print(rmse_test)\n",
    "getTreeVars(m01_hrv_tree, X_train.columns.values)"
   ]
  },
  {
   "cell_type": "code",
   "execution_count": 21,
   "metadata": {},
   "outputs": [
    {
     "name": "stdout",
     "output_type": "stream",
     "text": [
      "15.098555392446734\n",
      "15.92125753217055\n"
     ]
    },
    {
     "data": {
      "text/plain": [
       "[('w_recovery_score', 100),\n",
       " ('y_kilojoule', 12),\n",
       " ('y_respiratory_rate', 11),\n",
       " ('y_max_heart_rate', 10),\n",
       " ('w_hrv_milli', 6),\n",
       " ('w_rem_sleep_time', 5),\n",
       " ('y_avg_heart_rate', 5),\n",
       " ('w_light_sleep_time', 5),\n",
       " ('y_disturbance_count', 2),\n",
       " ('y_sleep_consistency_perc', 2),\n",
       " ('na_acr', 2),\n",
       " ('y_workout_max_heart_rate', 2),\n",
       " ('y_total_sleep_time', 2),\n",
       " ('y_zone_one', 1)]"
      ]
     },
     "execution_count": 21,
     "metadata": {},
     "output_type": "execute_result"
    }
   ],
   "source": [
    "m01_hrv_gb = GradientBoostingRegressor(random_state=5,n_iter_no_change = 10, n_estimators=500, learning_rate = 0.1,max_depth = 2, min_samples_leaf=3)\n",
    "m01_hrv_gb = m01_hrv_gb.fit(X_train, Y_train)\n",
    "\n",
    "Y_pred_train = m01_hrv_gb.predict(X_train)\n",
    "Y_pred_test = m01_hrv_gb.predict(X_test)\n",
    "\n",
    "rmse_train = math.sqrt(metrics.mean_squared_error(Y_train, Y_pred_train))\n",
    "rmse_test = math.sqrt(metrics.mean_squared_error(Y_test, Y_pred_test))\n",
    "\n",
    "print(rmse_train)\n",
    "print(rmse_test)\n",
    "getEnsembleTreeVars(m01_hrv_gb, X_train.columns.values)"
   ]
  },
  {
   "cell_type": "code",
   "execution_count": 22,
   "metadata": {},
   "outputs": [
    {
     "name": "stdout",
     "output_type": "stream",
     "text": [
      "16.555736033508587\n",
      "15.623343282674554\n"
     ]
    },
    {
     "name": "stderr",
     "output_type": "stream",
     "text": [
      "c:\\Users\\BrettMele\\anaconda3\\lib\\site-packages\\sklearn\\linear_model\\_ridge.py:157: LinAlgWarning: Ill-conditioned matrix (rcond=9.1822e-17): result may not be accurate.\n",
      "  return linalg.solve(A, Xy, sym_pos=True, overwrite_a=True).T\n"
     ]
    }
   ],
   "source": [
    "m01_hrv_lm = Ridge()\n",
    "m01_hrv_lm = m01_workout_lm.fit(X_train, Y_train)\n",
    "\n",
    "Y_pred_train = m01_hrv_lm.predict(X_train)\n",
    "Y_pred_test = m01_hrv_lm.predict(X_test)\n",
    "\n",
    "rmse_train = math.sqrt(metrics.mean_squared_error(Y_train, Y_pred_train))\n",
    "rmse_test = math.sqrt(metrics.mean_squared_error(Y_test, Y_pred_test))\n",
    "\n",
    "print(rmse_train)\n",
    "print(rmse_test)"
   ]
  },
  {
   "attachments": {},
   "cell_type": "markdown",
   "metadata": {},
   "source": [
    "## Pickle them"
   ]
  },
  {
   "cell_type": "code",
   "execution_count": 86,
   "metadata": {},
   "outputs": [],
   "source": [
    "pickle.dump(m01_hrv_lm, open(\"hrv_model.pkl\", \"wb\"))\n",
    "pickle.dump(m01_recovery_lm, open(\"recovery_model.pkl\", \"wb\"))\n",
    "pickle.dump(m01_workout_lm, open(\"strain_model.pkl\", \"wb\"))"
   ]
  },
  {
   "cell_type": "code",
   "execution_count": 87,
   "metadata": {},
   "outputs": [
    {
     "name": "stderr",
     "output_type": "stream",
     "text": [
      "c:\\Users\\BrettMele\\anaconda3\\lib\\site-packages\\google\\auth\\_default.py:78: UserWarning: Your application has authenticated using end user credentials from Google Cloud SDK without a quota project. You might receive a \"quota exceeded\" or \"API not enabled\" error. See the following page for troubleshooting: https://cloud.google.com/docs/authentication/adc-troubleshooting/user-creds. \n",
      "  warnings.warn(_CLOUD_SDK_CREDENTIALS_WARNING)\n"
     ]
    }
   ],
   "source": [
    "client = storage.Client(project='msds434-whoop-app')\n",
    "bucket = client.get_bucket(\"whoopdata\")\n",
    "\n",
    "blob = storage.blob.Blob.from_string(\"gs://hrvmodel/model.pkl\", client)\n",
    "blob.upload_from_filename(\"hrv_model.pkl\")\n",
    "\n",
    "blob = storage.blob.Blob.from_string(\"gs://recoverymodel/model.pkl\", client)\n",
    "blob.upload_from_filename(\"recovery_model.pkl\")\n",
    "\n",
    "blob = storage.blob.Blob.from_string(\"gs://strainmodel/model.pkl\", client)\n",
    "blob.upload_from_filename(\"strain_model.pkl\")"
   ]
  }
 ],
 "metadata": {
  "kernelspec": {
   "display_name": "base",
   "language": "python",
   "name": "python3"
  },
  "language_info": {
   "codemirror_mode": {
    "name": "ipython",
    "version": 3
   },
   "file_extension": ".py",
   "mimetype": "text/x-python",
   "name": "python",
   "nbconvert_exporter": "python",
   "pygments_lexer": "ipython3",
   "version": "3.9.13"
  },
  "orig_nbformat": 4,
  "vscode": {
   "interpreter": {
    "hash": "c65af922bc2b5d066a0d49d2a0a2bf31ef36646b009276811461ed5f08356e63"
   }
  }
 },
 "nbformat": 4,
 "nbformat_minor": 2
}
