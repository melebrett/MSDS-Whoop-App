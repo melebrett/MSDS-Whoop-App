{
 "cells": [
  {
   "cell_type": "code",
   "execution_count": 1,
   "metadata": {},
   "outputs": [],
   "source": [
    "import pandas as pd\n",
    "import numpy as np\n",
    "import math\n",
    "\n",
    "from sklearn.model_selection import train_test_split\n",
    "import sklearn.metrics as metrics\n",
    "from sklearn import tree\n",
    "from sklearn.tree import _tree\n",
    "from operator import itemgetter\n",
    "from sklearn.ensemble import RandomForestRegressor \n",
    "# from sklearn.ensemble import RandomForestClassifier\n",
    "from sklearn.ensemble import GradientBoostingRegressor \n",
    "# from sklearn.ensemble import GradientBoostingClassifier\n",
    "import pickle\n",
    "\n",
    "from google.cloud import bigquery\n",
    "from google.oauth2 import service_account\n",
    "credentials = service_account.Credentials.from_service_account_file(\"../../msds434-whoop-app-44384939c1f4.json\")"
   ]
  },
  {
   "cell_type": "code",
   "execution_count": 12,
   "metadata": {},
   "outputs": [],
   "source": [
    "project_id = 'msds434-whoop-app'\n",
    "client = bigquery.Client(credentials=credentials, project=project_id)\n",
    "query = client.query(\"select * from `msds434-whoop-app.whoopdataset.whoopmerge`\")\n",
    "df = query.to_dataframe()"
   ]
  },
  {
   "cell_type": "code",
   "execution_count": 207,
   "metadata": {},
   "outputs": [],
   "source": [
    "# flags for key missing data\n",
    "df['na_acr'] = df['acute_chronic_strain'].isna() + 0\n",
    "df['na_workout'] = df['y_workout_strain'].isna() + 0\n",
    "\n",
    "# imputation\n",
    "workout_cols = ['acute_chronic_strain', 'workout_strain', 'workout_average_heart_rate','workout_max_heart_rate','workout_kilojoule','zone_one','zone_two','zone_three','zone_four','zone_five',\n",
    "\t\t\t\t\t 'y_workout_strain', 'y_workout_average_heart_rate','y_workout_max_heart_rate','y_workout_kilojoule','y_zone_one','y_zone_two','y_zone_three','y_zone_four','y_zone_five']\n",
    "\n",
    "for i in df.columns:\n",
    "\tif df[i].dtype == 'int' or df[i].dtype == 'float':\n",
    "\t\tif i in workout_cols:\n",
    "\t\t\tdf[i] = df[i].fillna(df[i].min())\n",
    "\t\telif i.startswith(\"y_\"):\n",
    "\t\t\tdf[i] = df[i].fillna(df.groupby('day_of_week')[i].transform('median'))\n",
    "\t\telif i.startswith(\"w_\"):\n",
    "\t\t\tdf[i] = df[i].fillna(df.groupby('day_of_week')[i].transform('median'))\n",
    "\t\telse:\n",
    "\t\t\tpass"
   ]
  },
  {
   "cell_type": "code",
   "execution_count": 208,
   "metadata": {},
   "outputs": [],
   "source": [
    "same_day_sleep_cols = ['sleep_start_time','light_sleep_time', 'slow_wave_sleep_time','rem_sleep_time','sleep_cycle_count','disturbance_count','respiratory_rate']\n",
    "yesterday_sleep_cols = ['y_total_sleep_time', 'y_light_sleep_time', 'y_slow_wave_sleep_time','y_rem_sleep_time','y_sleep_cycle_count','y_disturbance_count','y_respiratory_rate', 'y_sleep_performance_perc', 'y_sleep_consistency_perc','y_sleep_efficiency_perc']\n",
    "yesterday_strain_cols = ['y_kilojoule','y_strain', 'y_avg_heart_rate','y_max_heart_rate']\n",
    "yesterday_workout_cols = ['y_workout_start_time','y_workout_max_heart_rate', 'y_workout_max_heart_rate','y_workout_kilojoule','y_zone_one','y_zone_two','y_zone_thee','y_zone_four','y_zone_five']\n",
    "weekly_avgs = ['acute_chronic_strain', 'w_strain','w_sleep_start_time_sd','w_slow_wave_sleep_time','w_light_sleep_time','w_rem_sleep_time','w_recovery_score','w_hrv_milli','w_resting_heart_rate']\n",
    "df['recovery_score_bin'] = pd.cut(df['recovery_score'], bins=[-float('inf'), 33, 67, float('inf')], labels=['red', 'yellow', 'green'])"
   ]
  },
  {
   "cell_type": "code",
   "execution_count": 166,
   "metadata": {},
   "outputs": [],
   "source": [
    "# HELPER FUNCTIONS\n",
    "def getTreeVars( TREE, varNames ) :\n",
    "   tree_ = TREE.tree_\n",
    "   varName = [ varNames[i] if i != _tree.TREE_UNDEFINED else \"undefined!\" for i in tree_.feature ]\n",
    "\n",
    "   nameSet = set()\n",
    "   for i in tree_.feature :\n",
    "       if i != _tree.TREE_UNDEFINED :\n",
    "           nameSet.add( i )\n",
    "   nameList = list( nameSet )\n",
    "   parameter_list = list()\n",
    "   for i in nameList :\n",
    "       parameter_list.append( varNames[i] )\n",
    "   return parameter_list\n",
    "\n",
    "def getEnsembleTreeVars( ENSTREE, varNames ) :\n",
    "   importance = ENSTREE.feature_importances_\n",
    "   index = np.argsort(importance)\n",
    "   theList = []\n",
    "   for i in index :\n",
    "       imp_val = importance[i]\n",
    "       if imp_val > 0.01 :\n",
    "           v = int( imp_val / np.max( ENSTREE.feature_importances_ ) * 100 )\n",
    "           theList.append( ( varNames[i], v ) )\n",
    "   theList = sorted(theList,key=itemgetter(1),reverse=True)\n",
    "   return theList"
   ]
  },
  {
   "attachments": {},
   "cell_type": "markdown",
   "metadata": {},
   "source": [
    "## Model 1: predict next day's recovery"
   ]
  },
  {
   "cell_type": "code",
   "execution_count": 209,
   "metadata": {},
   "outputs": [],
   "source": [
    "other_cols = ['recovery_score', 'week_of_year','day_of_week','na_acr','na_workout', 'sleep_start_time']\n",
    "feats = list(set(other_cols + same_day_sleep_cols + yesterday_sleep_cols + yesterday_strain_cols + yesterday_workout_cols + weekly_avgs))\n",
    "df_recovery_model = df[feats]\n",
    "\n",
    "X = df_recovery_model.drop('recovery_score',axis = 1)\n",
    "Y = df_recovery_model['recovery_score']\n",
    "\n",
    "X_train, X_test, Y_train, Y_test = train_test_split(X,Y, train_size=0.8, test_size=0.2, random_state=2)"
   ]
  },
  {
   "cell_type": "code",
   "execution_count": 71,
   "metadata": {},
   "outputs": [],
   "source": []
  },
  {
   "cell_type": "code",
   "execution_count": 210,
   "metadata": {},
   "outputs": [
    {
     "name": "stdout",
     "output_type": "stream",
     "text": [
      "15.248561916368933\n",
      "18.458252859195152\n"
     ]
    },
    {
     "data": {
      "text/plain": [
       "['y_rem_sleep_time',\n",
       " 'light_sleep_time',\n",
       " 'w_hrv_milli',\n",
       " 'rem_sleep_time',\n",
       " 'y_disturbance_count',\n",
       " 'w_resting_heart_rate',\n",
       " 'y_sleep_efficiency_perc',\n",
       " 'respiratory_rate',\n",
       " 'y_sleep_consistency_perc',\n",
       " 'w_light_sleep_time',\n",
       " 'y_total_sleep_time',\n",
       " 'sleep_start_time',\n",
       " 'y_avg_heart_rate']"
      ]
     },
     "execution_count": 210,
     "metadata": {},
     "output_type": "execute_result"
    }
   ],
   "source": [
    "m01_recovery_tree = tree.DecisionTreeRegressor(max_depth=4)\n",
    "m01_recovery_tree = m01_recovery_tree.fit(X_train, Y_train)\n",
    "\n",
    "Y_pred_train = m01_recovery_tree.predict(X_train)\n",
    "Y_pred_test = m01_recovery_tree.predict(X_test)\n",
    "\n",
    "rmse_train = math.sqrt(metrics.mean_squared_error(Y_train, Y_pred_train))\n",
    "rmse_test = math.sqrt(metrics.mean_squared_error(Y_test, Y_pred_test))\n",
    "\n",
    "print(rmse_train)\n",
    "print(rmse_test)\n",
    "getTreeVars(m01_recovery_tree, X_train.columns.values)"
   ]
  },
  {
   "cell_type": "code",
   "execution_count": 252,
   "metadata": {},
   "outputs": [
    {
     "name": "stdout",
     "output_type": "stream",
     "text": [
      "14.135905169944515\n",
      "17.380436605037946\n"
     ]
    },
    {
     "data": {
      "text/plain": [
       "[('w_resting_heart_rate', 100),\n",
       " ('respiratory_rate', 46),\n",
       " ('rem_sleep_time', 10),\n",
       " ('w_hrv_milli', 8),\n",
       " ('light_sleep_time', 8),\n",
       " ('y_strain', 7),\n",
       " ('w_light_sleep_time', 5),\n",
       " ('y_sleep_performance_perc', 5),\n",
       " ('w_recovery_score', 5),\n",
       " ('acute_chronic_strain', 4),\n",
       " ('y_disturbance_count', 4),\n",
       " ('y_respiratory_rate', 4),\n",
       " ('disturbance_count', 3),\n",
       " ('day_of_week', 3),\n",
       " ('y_avg_heart_rate', 3),\n",
       " ('sleep_cycle_count', 3),\n",
       " ('slow_wave_sleep_time', 3),\n",
       " ('y_sleep_cycle_count', 3),\n",
       " ('y_total_sleep_time', 2)]"
      ]
     },
     "execution_count": 252,
     "metadata": {},
     "output_type": "execute_result"
    }
   ],
   "source": [
    "m01_recovery_gb = GradientBoostingRegressor(random_state=5,n_iter_no_change = 5, n_estimators=1000, learning_rate = 0.05,max_depth = 4, min_samples_leaf=5)\n",
    "m01_recovery_gb = m01_recovery_gb.fit(X_train, Y_train)\n",
    "\n",
    "Y_pred_train = m01_recovery_gb.predict(X_train)\n",
    "Y_pred_test = m01_recovery_gb.predict(X_test)\n",
    "\n",
    "rmse_train = math.sqrt(metrics.mean_squared_error(Y_train, Y_pred_train))\n",
    "rmse_test = math.sqrt(metrics.mean_squared_error(Y_test, Y_pred_test))\n",
    "\n",
    "print(rmse_train)\n",
    "print(rmse_test)\n",
    "getEnsembleTreeVars(m01_recovery_gb, X_train.columns.values)"
   ]
  },
  {
   "attachments": {},
   "cell_type": "markdown",
   "metadata": {},
   "source": [
    "## Model 2: workout performance"
   ]
  },
  {
   "cell_type": "code",
   "execution_count": 272,
   "metadata": {},
   "outputs": [],
   "source": [
    "other_cols = ['workout_strain','recovery_score','hrv_milli', 'day_of_week', 'na_workout']\n",
    "feats =  list(set(other_cols + same_day_sleep_cols + yesterday_sleep_cols + yesterday_strain_cols + yesterday_workout_cols + weekly_avgs))\n",
    "df_workout_model = df[feats]\n",
    "df_workout_model.loc[df_workout_model['na_workout'] == 0]\n",
    "\n",
    "X = df_workout_model.drop(columns=['workout_strain','na_workout'],axis = 1)\n",
    "Y = df_workout_model['workout_strain']\n",
    "\n",
    "X_train, X_test, Y_train, Y_test = train_test_split(X,Y, train_size=0.8, test_size=0.2, random_state=2)"
   ]
  },
  {
   "cell_type": "code",
   "execution_count": 273,
   "metadata": {},
   "outputs": [
    {
     "name": "stdout",
     "output_type": "stream",
     "text": [
      "3.431130521575869\n",
      "3.3180467481756875\n"
     ]
    },
    {
     "data": {
      "text/plain": [
       "['w_hrv_milli', 'y_workout_kilojoule', 'y_strain']"
      ]
     },
     "execution_count": 273,
     "metadata": {},
     "output_type": "execute_result"
    }
   ],
   "source": [
    "m01_workout_tree = tree.DecisionTreeRegressor(max_depth=2)\n",
    "m01_workout_tree = m01_workout_tree.fit(X_train, Y_train)\n",
    "\n",
    "Y_pred_train = m01_workout_tree.predict(X_train)\n",
    "Y_pred_test = m01_workout_tree.predict(X_test)\n",
    "\n",
    "rmse_train = math.sqrt(metrics.mean_squared_error(Y_train, Y_pred_train))\n",
    "rmse_test = math.sqrt(metrics.mean_squared_error(Y_test, Y_pred_test))\n",
    "\n",
    "print(rmse_train)\n",
    "print(rmse_test)\n",
    "getTreeVars(m01_workout_tree, X_train.columns.values)"
   ]
  },
  {
   "cell_type": "code",
   "execution_count": 274,
   "metadata": {},
   "outputs": [
    {
     "name": "stdout",
     "output_type": "stream",
     "text": [
      "3.139026154470241\n",
      "3.2712781100509396\n"
     ]
    },
    {
     "data": {
      "text/plain": [
       "[('y_strain', 100),\n",
       " ('y_workout_max_heart_rate', 28),\n",
       " ('w_hrv_milli', 20),\n",
       " ('y_zone_four', 17),\n",
       " ('y_workout_start_time', 16),\n",
       " ('y_workout_kilojoule', 12),\n",
       " ('y_max_heart_rate', 10),\n",
       " ('y_zone_thee', 6),\n",
       " ('hrv_milli', 5),\n",
       " ('sleep_start_time', 5),\n",
       " ('y_disturbance_count', 3),\n",
       " ('y_sleep_efficiency_perc', 2)]"
      ]
     },
     "execution_count": 274,
     "metadata": {},
     "output_type": "execute_result"
    }
   ],
   "source": [
    "m01_workout_gb = GradientBoostingRegressor(random_state=5,n_iter_no_change = 10, n_estimators=1000, learning_rate = 0.05,max_depth = 3, min_samples_leaf=3)\n",
    "m01_workout_gb = m01_workout_gb.fit(X_train, Y_train)\n",
    "\n",
    "Y_pred_train = m01_workout_gb.predict(X_train)\n",
    "Y_pred_test = m01_workout_gb.predict(X_test)\n",
    "\n",
    "rmse_train = math.sqrt(metrics.mean_squared_error(Y_train, Y_pred_train))\n",
    "rmse_test = math.sqrt(metrics.mean_squared_error(Y_test, Y_pred_test))\n",
    "\n",
    "print(rmse_train)\n",
    "print(rmse_test)\n",
    "getEnsembleTreeVars(m01_workout_gb, X_train.columns.values)"
   ]
  },
  {
   "attachments": {},
   "cell_type": "markdown",
   "metadata": {},
   "source": [
    "## Model 3: HRV"
   ]
  },
  {
   "cell_type": "code",
   "execution_count": 277,
   "metadata": {},
   "outputs": [],
   "source": [
    "other_cols = ['hrv_milli', 'week_of_year','day_of_week','na_acr','na_workout', 'sleep_start_time']\n",
    "feats = list(set(other_cols + yesterday_sleep_cols + yesterday_strain_cols + yesterday_workout_cols + weekly_avgs))\n",
    "df_hrv_model = df[feats]\n",
    "\n",
    "X = df_hrv_model.drop('hrv_milli',axis = 1)\n",
    "Y = df_hrv_model['hrv_milli']\n",
    "\n",
    "X_train, X_test, Y_train, Y_test = train_test_split(X,Y, train_size=0.8, test_size=0.2, random_state=2)"
   ]
  },
  {
   "cell_type": "code",
   "execution_count": 278,
   "metadata": {},
   "outputs": [
    {
     "name": "stdout",
     "output_type": "stream",
     "text": [
      "15.991946895991859\n",
      "17.560529403666\n"
     ]
    },
    {
     "data": {
      "text/plain": [
       "['w_hrv_milli', 'w_resting_heart_rate']"
      ]
     },
     "execution_count": 278,
     "metadata": {},
     "output_type": "execute_result"
    }
   ],
   "source": [
    "m01_hrv_tree = tree.DecisionTreeRegressor(max_depth=2)\n",
    "m01_hrv_tree = m01_hrv_tree.fit(X_train, Y_train)\n",
    "\n",
    "Y_pred_train = m01_hrv_tree.predict(X_train)\n",
    "Y_pred_test = m01_hrv_tree.predict(X_test)\n",
    "\n",
    "rmse_train = math.sqrt(metrics.mean_squared_error(Y_train, Y_pred_train))\n",
    "rmse_test = math.sqrt(metrics.mean_squared_error(Y_test, Y_pred_test))\n",
    "\n",
    "print(rmse_train)\n",
    "print(rmse_test)\n",
    "getTreeVars(m01_hrv_tree, X_train.columns.values)"
   ]
  },
  {
   "cell_type": "code",
   "execution_count": 284,
   "metadata": {},
   "outputs": [
    {
     "name": "stdout",
     "output_type": "stream",
     "text": [
      "14.14521275480564\n",
      "16.728784126352515\n"
     ]
    },
    {
     "data": {
      "text/plain": [
       "[('w_hrv_milli', 100),\n",
       " ('w_resting_heart_rate', 13),\n",
       " ('y_max_heart_rate', 4),\n",
       " ('y_avg_heart_rate', 2),\n",
       " ('y_respiratory_rate', 2),\n",
       " ('w_sleep_start_time_sd', 2),\n",
       " ('w_slow_wave_sleep_time', 1)]"
      ]
     },
     "execution_count": 284,
     "metadata": {},
     "output_type": "execute_result"
    }
   ],
   "source": [
    "m01_hrv_gb = GradientBoostingRegressor(random_state=5,n_iter_no_change = 10, n_estimators=1000, learning_rate = 0.05,max_depth = 2, min_samples_leaf=3)\n",
    "m01_hrv_gb = m01_hrv_gb.fit(X_train, Y_train)\n",
    "\n",
    "Y_pred_train = m01_hrv_gb.predict(X_train)\n",
    "Y_pred_test = m01_hrv_gb.predict(X_test)\n",
    "\n",
    "rmse_train = math.sqrt(metrics.mean_squared_error(Y_train, Y_pred_train))\n",
    "rmse_test = math.sqrt(metrics.mean_squared_error(Y_test, Y_pred_test))\n",
    "\n",
    "print(rmse_train)\n",
    "print(rmse_test)\n",
    "getEnsembleTreeVars(m01_hrv_gb, X_train.columns.values)"
   ]
  },
  {
   "cell_type": "code",
   "execution_count": 285,
   "metadata": {},
   "outputs": [],
   "source": []
  },
  {
   "cell_type": "code",
   "execution_count": 287,
   "metadata": {},
   "outputs": [
    {
     "data": {
      "text/plain": [
       "'c:\\\\Users\\\\BrettMele\\\\Documents\\\\NU-MSDS\\\\MSDS434\\\\MSDS-434-Final\\\\models'"
      ]
     },
     "execution_count": 287,
     "metadata": {},
     "output_type": "execute_result"
    }
   ],
   "source": [
    "import os\n",
    "\n",
    "os.getcwd()"
   ]
  },
  {
   "cell_type": "code",
   "execution_count": 289,
   "metadata": {},
   "outputs": [],
   "source": [
    "pickle.dump(m01_hrv_gb, open(\"hrv_model.pkl\", \"wb\"))\n",
    "pickle.dump(m01_recovery_gb, open(\"recovery_model.pkl\", \"wb\"))\n",
    "pickle.dump(m01_workout_gb, open(\"strain_model.pkl\", \"wb\"))"
   ]
  }
 ],
 "metadata": {
  "kernelspec": {
   "display_name": "base",
   "language": "python",
   "name": "python3"
  },
  "language_info": {
   "codemirror_mode": {
    "name": "ipython",
    "version": 3
   },
   "file_extension": ".py",
   "mimetype": "text/x-python",
   "name": "python",
   "nbconvert_exporter": "python",
   "pygments_lexer": "ipython3",
   "version": "3.9.13"
  },
  "orig_nbformat": 4,
  "vscode": {
   "interpreter": {
    "hash": "c65af922bc2b5d066a0d49d2a0a2bf31ef36646b009276811461ed5f08356e63"
   }
  }
 },
 "nbformat": 4,
 "nbformat_minor": 2
}
