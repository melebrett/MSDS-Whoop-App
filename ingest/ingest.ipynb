{
 "cells": [
  {
   "cell_type": "code",
   "execution_count": 1,
   "metadata": {},
   "outputs": [],
   "source": [
    "import pandas as pd\n",
    "import datetime\n",
    "import os\n",
    "from dotenv import load_dotenv\n",
    "from pyWhoop import whoop\n",
    "from upload import upload"
   ]
  },
  {
   "cell_type": "code",
   "execution_count": 3,
   "metadata": {},
   "outputs": [
    {
     "data": {
      "text/plain": [
       "{'user_id': 96842,\n",
       " 'email': 'brettmmele@gmail.com',\n",
       " 'first_name': 'Brett',\n",
       " 'last_name': 'Mele'}"
      ]
     },
     "execution_count": 3,
     "metadata": {},
     "output_type": "execute_result"
    }
   ],
   "source": [
    "load_dotenv()\n",
    "\n",
    "username = os.getenv(\"USERNAME\") or \"\"\n",
    "pw = os.getenv(\"PASSWORD\") or \"\"\n",
    "\n",
    "client = whoop.WhoopClient(username=username, password=pw)\n",
    "client.is_authenticated()\n",
    "client.get_profile()"
   ]
  },
  {
   "cell_type": "code",
   "execution_count": 4,
   "metadata": {},
   "outputs": [],
   "source": [
    "today = datetime.date.today()\n",
    "\n",
    "sleep = client.get_sleep_collection(\"2019-01-01\",str(today))\n",
    "df_sleep = pd.json_normalize(sleep)\n",
    "recovery = client.get_recovery_collection(\"2019-01-01\",str(today))\n",
    "df_recovery = pd.json_normalize(recovery)\n",
    "workouts = client.get_workout_collection(\"2019-01-01\",str(today))\n",
    "df_workouts = pd.json_normalize(workouts)\n",
    "cycles = client.get_cycle_collection(\"2019-01-01\",str(today))\n",
    "df_cycles = pd.json_normalize(cycles)\n",
    "\n",
    "df_sleep.to_csv(\"data/sleep.csv\", index=False)\n",
    "df_recovery.to_csv(\"data/recovery.csv\", index=False)\n",
    "df_cycles.to_csv(\"data/cycles.csv\", index=False)\n",
    "df_workouts.to_csv(\"data/workouts.csv\", index=False)"
   ]
  },
  {
   "cell_type": "code",
   "execution_count": 6,
   "metadata": {},
   "outputs": [],
   "source": [
    "loader = upload()\n",
    "\n",
    "loader.uploadBlobCSV(\"cycles.csv\",\"data/cycles.csv\")\n",
    "loader.uploadBlobCSV(\"recovery.csv\",\"data/recovery.csv\")\n",
    "loader.uploadBlobCSV(\"sleep.csv\",\"data/sleep.csv\")\n",
    "loader.uploadBlobCSV(\"workouts.csv\",\"data/workouts.csv\")"
   ]
  },
  {
   "cell_type": "code",
   "execution_count": null,
   "metadata": {},
   "outputs": [],
   "source": [
    "# df_sleep.head()\n",
    "# df_recovery.head()\n",
    "# df_cycles.head()\n",
    "# df_workouts.head()"
   ]
  }
 ],
 "metadata": {
  "kernelspec": {
   "display_name": "base",
   "language": "python",
   "name": "python3"
  },
  "language_info": {
   "codemirror_mode": {
    "name": "ipython",
    "version": 3
   },
   "file_extension": ".py",
   "mimetype": "text/x-python",
   "name": "python",
   "nbconvert_exporter": "python",
   "pygments_lexer": "ipython3",
   "version": "3.9.13"
  },
  "orig_nbformat": 4,
  "vscode": {
   "interpreter": {
    "hash": "c65af922bc2b5d066a0d49d2a0a2bf31ef36646b009276811461ed5f08356e63"
   }
  }
 },
 "nbformat": 4,
 "nbformat_minor": 2
}
